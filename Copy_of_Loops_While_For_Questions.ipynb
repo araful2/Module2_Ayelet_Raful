{
  "cells": [
    {
      "cell_type": "markdown",
      "metadata": {
        "id": "view-in-github",
        "colab_type": "text"
      },
      "source": [
        "<a href=\"https://colab.research.google.com/github/araful2/Module2_Ayelet_Raful/blob/main/Copy_of_Loops_While_For_Questions.ipynb\" target=\"_parent\"><img src=\"https://colab.research.google.com/assets/colab-badge.svg\" alt=\"Open In Colab\"/></a>"
      ]
    },
    {
      "cell_type": "markdown",
      "source": [],
      "metadata": {
        "id": "5fn3BknCygZa"
      },
      "id": "5fn3BknCygZa"
    },
    {
      "cell_type": "markdown",
      "source": [
        "Ayelet Raful    \n",
        "Programming 1           \n",
        "2025/10/16\n"
      ],
      "metadata": {
        "id": "5-8oAtdgyTfJ"
      },
      "id": "5-8oAtdgyTfJ"
    },
    {
      "cell_type": "markdown",
      "id": "7d25b115",
      "metadata": {
        "id": "7d25b115"
      },
      "source": [
        "\n",
        "# While & For Mastery — Syntax, Patterns, and Programs\n",
        "\n",
        "**Name:** _Your Name_  \n",
        "**Course:** _Programming I_  \n",
        "**Date:** _YYYY-MM-DD_\n",
        "\n",
        "**Learning goals**\n",
        "- Reintroduce the **syntax** and core **patterns** for `while` and `for` loops.\n",
        "- Use loops with **decision structures** (`if/elif/else`) and **`try/except`** for input validation.\n",
        "- Write non-trivial programs that require **reasoning**, not just template filling.\n",
        "- Practice **PEP 8** style: naming, whitespace, docstrings, and helpful comments. - SO PLEASE DO PEP 8 ASSIGNMENT FIRST\n",
        "\n",
        "\n",
        "**IDE usage**\n",
        "- Feel free to work within an IDE (PyCharm or IDLE) if you feel more comfortable, copying and pasting the answers here"
      ]
    },
    {
      "cell_type": "markdown",
      "source": [],
      "metadata": {
        "id": "co4zaM_oHdBi"
      },
      "id": "co4zaM_oHdBi"
    },
    {
      "cell_type": "markdown",
      "id": "02124153",
      "metadata": {
        "id": "02124153"
      },
      "source": [
        "\n",
        "## Part 0 — Quick Reference (Read & Run)\n",
        "\n",
        "### `for` loop (iterate over a sequence)\n",
        "```python\n",
        "for item in iterable:\n",
        "    # do something with item\n",
        "```\n",
        "\n",
        "### `while` loop (repeat until a condition changes)\n",
        "```python\n",
        "while condition:\n",
        "    # body\n",
        "```\n",
        "\n",
        "### Useful keywords\n",
        "- `break` — exit the nearest loop immediately  \n",
        "- `continue` — skip to next iteration  \n",
        "- `else` on loops — runs if the loop **didn't** `break`\n"
      ]
    },
    {
      "cell_type": "markdown",
      "id": "884708c5",
      "metadata": {
        "id": "884708c5"
      },
      "source": [
        "\n",
        "## Demo 1 — `for` Loop Fundamentals\n",
        "- Iterating lists/strings\n",
        "- Using `range(start, stop, step)`\n",
        "- Tracking indices with `enumerate`\n"
      ]
    },
    {
      "cell_type": "code",
      "execution_count": null,
      "id": "a9210b06",
      "metadata": {
        "id": "a9210b06",
        "colab": {
          "base_uri": "https://localhost:8080/"
        },
        "outputId": "3eb91dc2-a4a8-409d-f444-3f74544b457b"
      },
      "outputs": [
        {
          "output_type": "stream",
          "name": "stdout",
          "text": [
            "KOL\n",
            "NIDRE\n",
            "TEFILAH\n",
            "---\n",
            "2 4 6 8 10 \n",
            "---\n",
            "0: kol\n",
            "1: nidre\n",
            "2: tefilah\n"
          ]
        }
      ],
      "source": [
        "\n",
        "words = [\"kol\", \"nidre\", \"tefilah\"]\n",
        "\n",
        "# Basic iteration\n",
        "for w in words:\n",
        "    print(w.upper())\n",
        "\n",
        "print(\"---\")\n",
        "\n",
        "# Ranges\n",
        "for k in range(2, 11, 2):\n",
        "    print(k, end=\" \")\n",
        "print(\"\\n---\")\n",
        "\n",
        "# Enumerate for index + value\n",
        "for i, w in enumerate(words):\n",
        "    print(f\"{i}: {w}\")\n"
      ]
    },
    {
      "cell_type": "markdown",
      "id": "872c060a",
      "metadata": {
        "id": "872c060a"
      },
      "source": [
        "\n",
        "## Demo 2 — `while` Loop Fundamentals\n",
        "- Sentinel loops (stop when user types `done`)\n",
        "- Guarded updates to prevent infinite loops\n"
      ]
    },
    {
      "cell_type": "code",
      "execution_count": null,
      "id": "a16ab540",
      "metadata": {
        "id": "a16ab540",
        "colab": {
          "base_uri": "https://localhost:8080/"
        },
        "outputId": "7878287e-c356-4e59-849a-6927ca2aa798"
      },
      "outputs": [
        {
          "output_type": "stream",
          "name": "stdout",
          "text": [
            "Enter a number (or 'done'): done\n",
            "No numbers entered.\n"
          ]
        }
      ],
      "source": [
        "\n",
        "# Sentinel-controlled input loop\n",
        "# Type numbers; type 'done' to stop. We sum only valid numbers.\n",
        "total = 0.0\n",
        "count = 0\n",
        "\n",
        "while True:\n",
        "    raw = input(\"Enter a number (or 'done'): \").strip().lower()\n",
        "    if raw == \"done\":\n",
        "        break\n",
        "    try:\n",
        "        num = float(raw)\n",
        "    except ValueError:\n",
        "        print(\"Not a number — try again.\")\n",
        "        continue\n",
        "    total += num\n",
        "    count += 1\n",
        "\n",
        "if count > 0:\n",
        "    print(\"Average:\", total / count)\n",
        "else:\n",
        "    print(\"No numbers entered.\")\n"
      ]
    },
    {
      "cell_type": "markdown",
      "id": "4f729477",
      "metadata": {
        "id": "4f729477"
      },
      "source": [
        "\n",
        "## Demo 3 — Try/Except + Decisions in Loops\n",
        "- Validate input in a loop\n",
        "- Use `if/elif/else` for branching behavior\n"
      ]
    },
    {
      "cell_type": "code",
      "execution_count": null,
      "id": "ef5f1557",
      "metadata": {
        "id": "ef5f1557",
        "colab": {
          "base_uri": "https://localhost:8080/"
        },
        "outputId": "7d065426-329d-4e5d-e3a3-c4f2020d34a3"
      },
      "outputs": [
        {
          "output_type": "stream",
          "name": "stdout",
          "text": [
            "Pick an integer from 1 to 10: 11\n",
            "Out of range.\n",
            "Pick an integer from 1 to 10: 16\n",
            "Out of range.\n",
            "Pick an integer from 1 to 10: 17\n",
            "Out of range.\n",
            "No valid choice made. Exiting.\n"
          ]
        }
      ],
      "source": [
        "\n",
        "# Ask for an integer 1..10 with limited attempts.\n",
        "MAX_ATTEMPTS = 3\n",
        "attempts = 0\n",
        "value = None\n",
        "\n",
        "while attempts < MAX_ATTEMPTS:\n",
        "    try:\n",
        "        guess = int(input(\"Pick an integer from 1 to 10: \"))\n",
        "    except ValueError:\n",
        "        print(\"Please enter an integer.\")\n",
        "        attempts += 1\n",
        "        continue\n",
        "\n",
        "    if 1 <= guess <= 10:\n",
        "        value = guess\n",
        "        print(\"Thanks! You chose:\", value)\n",
        "        break\n",
        "    else:\n",
        "        print(\"Out of range.\")\n",
        "        attempts += 1\n",
        "\n",
        "if value is None:\n",
        "    print(\"No valid choice made. Exiting.\")\n"
      ]
    },
    {
      "cell_type": "markdown",
      "id": "4a3c313f",
      "metadata": {
        "id": "4a3c313f"
      },
      "source": [
        "\n",
        "## Patterns & Pitfalls\n",
        "- Prefer `for` for known collections/ranges; `while` for open-ended/state-driven loops.\n",
        "- Always **advance the loop state** in a `while` (avoid infinite loops).\n",
        "- Use **sentinels** like `'done'` to end user input.\n",
        "- Extract **helpers** with docstrings for single-purpose blocks.\n",
        "- Keep lines ≤ 79–99 characters and space around operators appropriately.\n"
      ]
    },
    {
      "cell_type": "markdown",
      "id": "05823ceb",
      "metadata": {
        "id": "05823ceb"
      },
      "source": [
        "\n",
        "## Program 1 — Running Statistics (Sentinel + Validation)\n",
        "\n",
        "**Write:** `stats_loop()` that repeatedly reads numbers from the user until they type `'done'`.  \n",
        "- Use `try/except` to validate input. Ignore invalid entries (warn and continue).  \n",
        "- Track **count, min, max, sum, average**.  \n",
        "- At the end, print a one-line summary like:  \n",
        "  `count=5 min=2.0 max=14.5 sum=33.0 avg=6.6`\n",
        "\n",
        "**Requirements:**\n",
        "- Use a **while loop** with a sentinel.\n",
        "- Use at least one **decision structure** (`if/elif/else`).\n",
        "- Follow **PEP 8** for naming, spacing, and comments.\n"
      ]
    },
    {
      "cell_type": "code",
      "execution_count": null,
      "id": "bc2b0125",
      "metadata": {
        "id": "bc2b0125",
        "colab": {
          "base_uri": "https://localhost:8080/"
        },
        "outputId": "2b7a777f-baac-4fed-d4c0-0927fc765b91"
      },
      "outputs": [
        {
          "output_type": "stream",
          "name": "stdout",
          "text": [
            "Enter a number (or 'done'): 4\n",
            "Enter a number (or 'done'): 5\n",
            "Enter a number (or 'done'): 6\n",
            "Enter a number (or 'done'): 7\n",
            "Enter a number (or 'done'): done\n",
            "average: 5.5 count: 4 max: 7.0 min: 4.0 sum 22.0\n"
          ]
        }
      ],
      "source": [
        "# Your code here\n",
        "\n",
        "def stats_loop():\n",
        "  \"\"\"\n",
        "  Reads numbers from the user until they type 'done'.\n",
        "  Tracks count, min, max, sum, and average.\n",
        "  At the end, prints a one-line summary.\n",
        "  \"\"\"\n",
        "  # The total variable is set to zero as a starting point, so that the total can then be calcualated.\n",
        "  # The count is set to 0 so that the total count can be based on it, adding one every time.\n",
        "  # Minimum is set to infinity, so that any number less than infinity, will become the new minimum.\n",
        "  # Maximim is set to -infinity so that any number greater than -infinity will replace it.\n",
        "\n",
        "  total = 0.0\n",
        "  count = 0\n",
        "  minimum = float('inf')\n",
        "  maximum = float('-inf')\n",
        "\n",
        "  # This loop runs until the user types done.\n",
        "  while True:\n",
        "      raw = input(\"Enter a number (or 'done'): \").strip().lower()\n",
        "      # The if statement is checking if user input is done and if it is - exiting.\n",
        "      if raw == \"done\":\n",
        "          break\n",
        "      # The try block is here to make sure that the users input is a float.\n",
        "      try:\n",
        "          num = float(raw)\n",
        "      except ValueError:\n",
        "          print(\"Not a number — try again.\")\n",
        "          continue\n",
        "      total += num\n",
        "      count += 1\n",
        "\n",
        "      # If the users input is greater than the current maximum, it becomes the new maximum.\n",
        "      if num > maximum:\n",
        "        maximum = num\n",
        "      # If the user's input is less than the current minimum, it becomes the new minimum.\n",
        "      if num < minimum:\n",
        "        minimum = num\n",
        "  # This if statment is so that the program will only print results if numbers have been entered.\n",
        "  if count > 0:\n",
        "    print(f'average: {total / count} count: {count} max: {maximum} min: {minimum} sum {total}')\n",
        "\n",
        "  else:\n",
        "      print(\"No numbers entered.\")\n",
        "\n",
        "\n",
        "\n",
        "stats_loop()"
      ]
    },
    {
      "cell_type": "markdown",
      "id": "cc1cb2cf",
      "metadata": {
        "id": "cc1cb2cf"
      },
      "source": [
        "\n",
        "## Program 2 — Password Attempts (Decisions + While)\n",
        "\n",
        "**Write:** `login_sim(correct_password: str, max_attempts: int = 3)`  \n",
        "- Prompt until the user enters the correct password or attempts are exhausted.  \n",
        "- Enforce a **policy**: at least 8 chars, contains a digit and a letter.  \n",
        "- Provide **specific feedback** for failures using `if/elif/else`.  \n",
        "- Use `try/except` only if you choose to add extra parsing; the main need here is decisions + while.\n",
        "\n",
        "**Tip:** Put the policy check in a **helper function** with a docstring.\n"
      ]
    },
    {
      "cell_type": "code",
      "source": [
        "def check_password(entered_password: str):\n",
        "    \"\"\"\n",
        "    This function takes the users input and checks if it meets the criteria.\n",
        "    It does this by using the isdigit and is alpha functions as well as a for loop.\n",
        "    If the password meets the criteria, then the function returns true, and if not, it returns false.\n",
        "\n",
        "    \"\"\"\n",
        "    # The variable good_password is set to false and it will change to true if it meets the criteria.\n",
        "    good_password = False\n",
        "    # The if statement checks if variable is at least 8 characters, contains a number and a letter.\n",
        "    if len(entered_password) < 8:\n",
        "        print(\"Password must be at least 8 characters long.\")\n",
        "\n",
        "    elif not any(char.isdigit() for char in entered_password):\n",
        "        print(\"Password must contain at least one digit.\")\n",
        "\n",
        "    elif not any(char.isalpha() for char in entered_password):\n",
        "        print(\"Password must contain at least one letter.\")\n",
        "    else:\n",
        "        print(\"Access Granted\")\n",
        "        good_password = True\n",
        "    return good_password\n",
        "\n",
        "\n",
        "\n",
        "\n",
        "def login_sim(max_attempts: int = 3):\n",
        "    \"\"\"\n",
        "    This function asks for the users input and manages the attempts with a while loop.\n",
        "    It runs the check_password function, and if it returns true, prints login successful,\n",
        "    and if it returns false, it exits.\n",
        "    \"\"\"\n",
        "    # Attempts starts at 0 and is incremented in the loop.\n",
        "    attempts = 0\n",
        "    # This while loop runs as long as attempts is less than max_attempts.\n",
        "    while attempts < max_attempts:\n",
        "        print(f\"Attempt {attempts + 1} of {max_attempts}\")\n",
        "        # Setting entered_password to the user's input.\n",
        "        entered_password = input(\"Enter a password: \")\n",
        "\n",
        "        # Check password and print login successful if valid.\n",
        "        if check_password(entered_password) == True:\n",
        "            print(\"Login Successful.\")\n",
        "            break\n",
        "\n",
        "        attempts += 1\n",
        "    # This exits program after 3 incorrect attempts.\n",
        "        if attempts == max_attempts:\n",
        "            print(\"Too many attempts. Exiting.\")\n",
        "\n",
        "# This checks if the script is being run directly.\n",
        "if __name__ == \"__main__\":\n",
        "\n",
        "    login_sim(max_attempts=3)"
      ],
      "metadata": {
        "colab": {
          "base_uri": "https://localhost:8080/"
        },
        "id": "ZXVirOAXCijV",
        "outputId": "fa411ca1-4e44-4597-d0a2-edc6681fc4e9"
      },
      "id": "ZXVirOAXCijV",
      "execution_count": null,
      "outputs": [
        {
          "output_type": "stream",
          "name": "stdout",
          "text": [
            "Attempt 1 of 3\n",
            "Enter a password: sdfghj234567\n",
            "Access Granted\n",
            "Login Successful.\n"
          ]
        }
      ]
    },
    {
      "cell_type": "markdown",
      "id": "9efbc851",
      "metadata": {
        "id": "9efbc851"
      },
      "source": [
        "\n",
        "## Program 3 — Collatz Analyzer (While + Decisions)\n",
        "\n",
        "**Write:** `collatz_steps(n: int) -> int` that returns the number of steps to reach 1 using the Collatz rules:  \n",
        "- If `n` is even, `n = n // 2`  \n",
        "- Else `n = 3*n + 1`\n",
        "\n",
        "**Then write:** `collatz_report(start: int, stop: int)` that prints the number between `start` and `stop` (inclusive) with the **maximum** steps and the step count.\n",
        "\n",
        "**Requirements:**\n",
        "- Input validation with `try/except` in a wrapper `main()` that reads `start` and `stop` from the user.\n",
        "- Use a **for** loop in `collatz_report`; use a **while** loop in `collatz_steps`.\n",
        "- Use decisions appropriately.\n"
      ]
    },
    {
      "cell_type": "code",
      "execution_count": null,
      "id": "6e7a622e",
      "metadata": {
        "id": "6e7a622e",
        "colab": {
          "base_uri": "https://localhost:8080/"
        },
        "outputId": "be208b55-1b7c-428c-8e32-de83a9dd4979"
      },
      "outputs": [
        {
          "name": "stdout",
          "output_type": "stream",
          "text": [
            "Enter the start value: ten\n",
            "Invalid input. Please enter integers.\n",
            "Enter the start value: 2\n",
            "Enter the stop value: 20\n",
            "Number with max value of steps: 18, Steps: 20\n",
            "Enter the start value: done\n",
            "Enter the start value: done\n"
          ]
        }
      ],
      "source": [
        "# your code here\n",
        "def collatz_steps(n: int) -> int:\n",
        "    \"\"\"\n",
        "    This function manages the actual calculations and does the math until the\n",
        "    users input is equal to 1. Then, it returns the number of steps.\n",
        "    \"\"\"\n",
        "    # Setting steps to 0, and it is incremented within the loop.\n",
        "    steps = 0\n",
        "    # This while loop runs until n is equal to 1.\n",
        "    while n != 1:\n",
        "        # Providing the collatz rules.\n",
        "        if n % 2 == 0:\n",
        "            n = n // 2\n",
        "        else:\n",
        "            n = 3 * n + 1\n",
        "        steps += 1\n",
        "    return steps\n",
        "\n",
        "\n",
        "def collatz_report(start: int, stop: int):\n",
        "  \"\"\"\n",
        "  This function checks which number from the range inputed by the user used the\n",
        "  most steps to reach 1, then it returns which number it is, and how many steps\n",
        "  it took.\n",
        "  \"\"\"\n",
        "  # Setting both variables to 0 and then incrementing them in the for loop.\n",
        "  max_steps = 0\n",
        "  max_value = 0\n",
        "  # Iterates through every number between the start and stop values(inclusive).\n",
        "  for n in range(start, stop + 1):\n",
        "      steps = collatz_steps(n)\n",
        "      # Checking for maximum number of steps.\n",
        "      if steps > max_steps:\n",
        "          max_steps = steps\n",
        "          max_value = n\n",
        "\n",
        "  print(f\"Number with max value of steps: {max_value}, Steps: {max_steps}\")\n",
        "\n",
        "\n",
        "\n",
        "def main():\n",
        "  \"\"\"\n",
        "  This function takes the user input and uses a try and except\n",
        "  to check the date and then calls the collatz_report function.\n",
        "  \"\"\"\n",
        "  # This loop runs until user inputs done.\n",
        "  while True:\n",
        "    # Making sure user input is an integer.\n",
        "    try:\n",
        "      start_str = input(\"Enter the start value: \")\n",
        "      # Program breaks if user input is done.\n",
        "      if start_str == 'done':\n",
        "        break\n",
        "      # Converting user input to int.\n",
        "      start = int(start_str)\n",
        "\n",
        "      stop_str = input(\"Enter the stop value: \")\n",
        "      # Program breaks if user input is done.\n",
        "      if stop_str == 'done':\n",
        "        break\n",
        "      # Converting user input to int.\n",
        "      stop = int(stop_str)\n",
        "\n",
        "      # Checking that start value is <= stop value and then calling the collatz_report function.\n",
        "      if start <= stop:\n",
        "        collatz_report(start, stop)\n",
        "      else:\n",
        "        print(\"Start value must be less than or equal to stop value. Please try again.\")\n",
        "\n",
        "    except ValueError:\n",
        "      print(\"Invalid input. Please enter integers.\")\n",
        "\n",
        "\n",
        "main()\n",
        "\n",
        "if __name__ == \"__main__\":\n",
        "  main()\n",
        "\n",
        "\n",
        "\n",
        "\n"
      ]
    },
    {
      "cell_type": "markdown",
      "id": "c2ec00e1",
      "metadata": {
        "id": "c2ec00e1"
      },
      "source": [
        "\n",
        "## Program 4 — Grid Count (Nested Loops + Decisions)\n",
        "\n",
        "**Write:** `count_neighbors(grid: list[list[int]], r: int, c: int) -> int` that counts how many **non-zero** neighbors a cell has in the 8 surrounding positions.\n",
        "\n",
        "**Then:** `live_ratio(grid)` returns the ratio of non-zero cells to total cells.\n",
        "\n",
        "**Requirements:**\n",
        "- Use **nested `for` loops**.\n",
        "- Use decisions to guard bounds and to skip the center cell.\n",
        "- Provide 2–3 `assert` tests.\n"
      ]
    },
    {
      "cell_type": "code",
      "execution_count": null,
      "id": "daf5f519",
      "metadata": {
        "id": "daf5f519"
      },
      "outputs": [],
      "source": [
        "# your code here"
      ]
    },
    {
      "cell_type": "markdown",
      "id": "ecba85ff",
      "metadata": {
        "id": "ecba85ff"
      },
      "source": [
        "\n",
        "## Program 5 — Receipt Parser (While + Try/Except + Decisions)\n",
        "\n",
        "**Write:** `receipt_total()` that repeatedly reads lines like `item,quantity,price` until the user types `'done'`.  \n",
        "- Validate that `quantity` is an integer and `price` is a float.  \n",
        "- Accumulate a subtotal and print a formatted receipt at the end.  \n",
        "- Ignore malformed lines (warn and continue).\n",
        "\n",
        "**Example input:**\n",
        "```\n",
        "apple,2,1.25\n",
        "banana,3,0.60\n",
        "done\n",
        "```\n",
        "**Output end line:**\n",
        "```\n",
        "Items: 2  Units: 5  Subtotal: $3.65\n",
        "```\n"
      ]
    },
    {
      "cell_type": "code",
      "source": [
        "def receipt_total():\n",
        "    \"\"\"\n",
        "    This function takes the users input of items, quantity and price and calculates the total number\n",
        "    of items, the total quantity of items, and the subtotal, and prints it out.\n",
        "    \"\"\"\n",
        "    # Tracking subototal, amount of items and total quantity of items.\n",
        "    subtotal = 0\n",
        "    item_count = 0\n",
        "    total_quantity = 0\n",
        "\n",
        "    # This loop runs until user inputs done.\n",
        "    while True:\n",
        "        raw_input = input(\"Enter item, quantity, and price separated by commas. Type 'done' to finish. \")\n",
        "        # Program breaks if user enters done.\n",
        "        if raw_input.lower() == 'done':\n",
        "            break\n",
        "        # Checking that all input is correct type.\n",
        "        try:\n",
        "            # Splitting user's input to 3.\n",
        "            item_raw, quantity_raw, price_raw = raw_input.split(',')\n",
        "            # Converting quantity to int.\n",
        "            quantity = int(quantity_raw)\n",
        "            # Coverting price to float.\n",
        "            price = float(price_raw)\n",
        "            # Calculating subtotal.\n",
        "            subtotal += quantity * price\n",
        "            # Incrementing the item count.\n",
        "            item_count += 1\n",
        "            # Calculating total quantity.\n",
        "            total_quantity += quantity\n",
        "        except ValueError:\n",
        "            print(\"Invalid input. Please enter string for item, integers for quantity and float for price, separated by commas.\")\n",
        "            continue\n",
        "    print(f\"Items: {item_count}  Units: {total_quantity}  Subtotal: ${subtotal:.2f}\")\n",
        "\n",
        "receipt_total()"
      ],
      "metadata": {
        "id": "QLtvdNK3BW8q",
        "colab": {
          "base_uri": "https://localhost:8080/"
        },
        "outputId": "c2f6b81c-9b31-4e7c-86e3-d6dfface65c5"
      },
      "id": "QLtvdNK3BW8q",
      "execution_count": null,
      "outputs": [
        {
          "output_type": "stream",
          "name": "stdout",
          "text": [
            "Enter item, quantity, and price separated by commas. Type 'done' to finish. apple,4,6\n",
            "Enter item, quantity, and price separated by commas. Type 'done' to finish. done\n",
            "Items: 1  Units: 4  Subtotal: $24.00\n"
          ]
        }
      ]
    },
    {
      "cell_type": "markdown",
      "id": "96844e4c",
      "metadata": {
        "id": "96844e4c"
      },
      "source": [
        "\n",
        "## Optional Challenge — Prime Gaps (For + Decisions)\n",
        "\n",
        "Write `is_prime(n: int) -> bool` and then `max_gap(a: int, b: int) -> tuple[int,int,int]` that returns `(p, q, gap)` where `p` and `q` are consecutive primes in `[a, b]` with the **largest** gap.\n",
        "\n",
        "- Use **for** loops and decisions; keep it simple and readable.\n",
        "- Add 2–3 `assert` tests.\n"
      ]
    },
    {
      "cell_type": "markdown",
      "id": "4eddd5e9",
      "metadata": {
        "id": "4eddd5e9"
      },
      "source": [
        "\n",
        "## Submission Checklist\n",
        "- [ ] I used `while` and/or `for` appropriately for each task.\n",
        "- [ ] I validated user input with `try/except` where required.\n",
        "- [ ] I used clear names, docstrings, and helpful comments.\n",
        "- [ ] I kept lines ≤ 79–99 chars and used proper whitespace.\n",
        "- [ ] I added a few `assert` tests where appropriate.\n"
      ]
    },
    {
      "cell_type": "markdown",
      "id": "96a91da6",
      "metadata": {
        "id": "96a91da6"
      },
      "source": [
        "\n",
        "## Grading Rubric (25 pts)\n",
        "\n",
        "| Criterion | Points |\n",
        "|---|---:|\n",
        "| Program 1 — Stats loop (correctness + validation + clarity) | 6 |\n",
        "| Program 2 — Password attempts (logic + decisions + clarity) | 5 |\n",
        "| Program 3 — Collatz analyzer (while + for + validation) | 6 |\n",
        "| Program 4 — Grid count (nested loops + tests) | 5 |\n",
        "| Overall PEP 8 style & explanations | 3 |\n"
      ]
    }
  ],
  "metadata": {
    "colab": {
      "provenance": [],
      "include_colab_link": true
    },
    "language_info": {
      "name": "python"
    },
    "kernelspec": {
      "name": "python3",
      "display_name": "Python 3"
    }
  },
  "nbformat": 4,
  "nbformat_minor": 5
}