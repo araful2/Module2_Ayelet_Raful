{
  "cells": [
    {
      "cell_type": "markdown",
      "metadata": {
        "id": "view-in-github",
        "colab_type": "text"
      },
      "source": [
        "<a href=\"https://colab.research.google.com/github/araful2/Module2_Ayelet_Raful/blob/main/Copy_of_HW_Sentinels_NestedLoops_InputValidation_Questions.ipynb\" target=\"_parent\"><img src=\"https://colab.research.google.com/assets/colab-badge.svg\" alt=\"Open In Colab\"/></a>"
      ]
    },
    {
      "cell_type": "markdown",
      "id": "90ac47ab",
      "metadata": {
        "id": "90ac47ab"
      },
      "source": [
        "# HW: Sentinels, Nested Loops, and Input Validation (≈70 minutes)\n",
        "\n",
        "**Instructions**\n",
        "- Work in order. Each task has a time estimate to help you pace yourself.\n",
        "- Do **not** use external libraries. Keep to standard Python.\n",
        "- Wherever you see `# TODO`, fill in the code.\n",
        "- Run the test cells (where provided) to sanity-check your work.\n",
        "- If something is unclear, add a short comment explaining your reasoning.\n",
        "\n",
        "**Learning goals**\n",
        "- Use **sentinel-controlled while loops** to gather input until the user indicates “stop.”\n",
        "- Use **try/except** and loops to **validate inputs** and **reprompt**.\n",
        "- Use **nested loops** to build tables or to loop over characters in strings."
      ]
    },
    {
      "cell_type": "markdown",
      "id": "e1f28e9a",
      "metadata": {
        "id": "e1f28e9a"
      },
      "source": [
        "---\n",
        "## ⏱️ Estimated total time: ~70 minutes\n",
        "\n",
        "- **Task 1** – Sentinel stats (15 min)  \n",
        "- **Task 2** – Choice validator (8 min)  \n",
        "- **Task 3** – Multiplication grid (12 min)  \n",
        "- **Task 4** – Vowel counter across words (15 min)  \n",
        "- **Task 5** – Mini-gradebook (20 min)"
      ]
    },
    {
      "cell_type": "markdown",
      "id": "983a92fb",
      "metadata": {
        "id": "983a92fb"
      },
      "source": [
        "---\n",
        "## Task 1 — Sentinel stats (≈15 min)\n",
        "\n",
        "Write a program that repeatedly asks the user for **integers between 0 and 100**.  \n",
        "Use a **sentinel**: the user types `done` (any case) to finish.\n",
        "\n",
        "**Requirements**\n",
        "- Ignore blank inputs (reprompt).\n",
        "- If the user types something that's not an integer in range, print a friendly message and reprompt.\n",
        "- When the user finishes, print: **count**, **sum**, **min**, **max**, and **mean** (to 2 decimals) using f-string: `{num:.2f}`.\n",
        "- If no valid numbers were entered, print `\"No data.\"`"
      ]
    },
    {
      "cell_type": "code",
      "execution_count": 4,
      "id": "bd66cac2",
      "metadata": {
        "id": "bd66cac2",
        "colab": {
          "base_uri": "https://localhost:8080/"
        },
        "outputId": "34bf684e-b9e8-4c12-e465-adb2014dbbbf"
      },
      "outputs": [
        {
          "output_type": "stream",
          "name": "stdout",
          "text": [
            "Please give an integer between 0 and 100 or done to exit4\n",
            "Please give an integer between 0 and 100 or done to exit5\n",
            "Please give an integer between 0 and 100 or done to exitdone\n",
            "count:2 min:4 max:5 mean:4.50\n"
          ]
        }
      ],
      "source": [
        "count = 0\n",
        "min = None\n",
        "max = None\n",
        "sum = 0\n",
        "while True:\n",
        "  try:\n",
        "    raw = input(\"Please give an integer between 0 and 100 or done to exit \")\n",
        "\n",
        "    if raw == \"done\":\n",
        "      break\n",
        "    integer = int(raw)\n",
        "  except ValueError:\n",
        "    print(\"Please enter an integer between 0 and 100\")\n",
        "    continue\n",
        "  if integer < 0 or integer > 100:\n",
        "    raise ValueError(\"Please enter an integer between 0 and 100\")\n",
        "    continue\n",
        "  if integer == \"\":\n",
        "    continue\n",
        "\n",
        "  sum += integer\n",
        "  if min is None or integer < min:\n",
        "    min = integer\n",
        "  if max is None or integer > max:\n",
        "    max = integer\n",
        "  count +=1\n",
        "  mean = sum/count\n",
        "\n",
        "\n",
        "if count > 0:\n",
        "  print(f\"count:{count} min:{min} max:{max} mean:{mean :.2f}\")\n",
        "else:\n",
        "  print(\"no data entered\")\n",
        "\n",
        "\n"
      ]
    },
    {
      "cell_type": "markdown",
      "id": "03a0f72b",
      "metadata": {
        "id": "03a0f72b"
      },
      "source": [
        "---\n",
        "## Task 2 — Choice validator (≈8 min)\n",
        "\n",
        "Write a function `get_choice(prompt, options)` that:\n",
        "- Prints the prompt and the list of options.\n",
        "- Repeatedly asks for input until the user types **exactly** one of the options (case-insensitive).\n",
        "- Returns the **originally cased** option from the `options` list.\n",
        "\n",
        "**Example**\n",
        "```text\n",
        "Your choice (red/blue/green): Blue\n",
        "# returns \"blue\" if options = [\"red\", \"blue\", \"green\"]\n",
        "```\n",
        "\n",
        "> Hint: Build `options_lower` once, then search it each time to find the index."
      ]
    },
    {
      "cell_type": "code",
      "execution_count": 64,
      "id": "ac138b14",
      "metadata": {
        "id": "ac138b14"
      },
      "outputs": [],
      "source": [
        "def get_choice(prompt, options):\n",
        "  #this converts each item in the list to lowercase\n",
        "  options_lower = [option.lower() for option in options]\n",
        "  while True:\n",
        "    user_input = input(f\"{prompt} {options} \").lower()\n",
        "\n",
        "    if user_input in options_lower:\n",
        "      # This line will give you the index of the color on the.lower list\n",
        "      return options[options_lower.index(user_input)]\n",
        "    else:\n",
        "      print(\"Invalid choice. Please try again.\")\n",
        "\n"
      ]
    },
    {
      "cell_type": "code",
      "execution_count": 66,
      "id": "c11c898d",
      "metadata": {
        "id": "c11c898d",
        "colab": {
          "base_uri": "https://localhost:8080/"
        },
        "outputId": "f21a54bc-5b3f-434b-a59d-a7af21203b68"
      },
      "outputs": [
        {
          "output_type": "stream",
          "name": "stdout",
          "text": [
            "Pick a color ['red', 'blue', 'green'] red\n",
            "You picked: red\n"
          ]
        }
      ],
      "source": [
        "#(Quick check) Manually try:\n",
        "color = get_choice(\"Pick a color\", [\"red\",\"blue\",\"green\"])\n",
        "print(\"You picked:\", color)"
      ]
    },
    {
      "cell_type": "markdown",
      "id": "003c976f",
      "metadata": {
        "id": "003c976f"
      },
      "source": [
        "---\n",
        "## Task 3 — Multiplication grid (≈12 min)\n",
        "\n",
        "Prompt the user for two **integers** `rows` and `cols` in the range **1..10**.  \n",
        "Validate both with try/except and reprompt until valid.\n",
        "\n",
        "Then print a **rows × cols** multiplication table, where each cell shows `r*c` (1-indexed).  \n",
        "Format with spaces so columns line up **at least** for small sizes.\n",
        "\n",
        "**Example (rows=3, cols=4)**\n",
        "```\n",
        "    1  2  3  4\n",
        " 1: 1  2  3  4\n",
        " 2: 2  4  6  8\n",
        " 3: 3  6  9 12\n",
        "```"
      ]
    },
    {
      "cell_type": "code",
      "execution_count": 63,
      "id": "db519675",
      "metadata": {
        "id": "db519675",
        "colab": {
          "base_uri": "https://localhost:8080/"
        },
        "outputId": "fbf80909-f563-42e2-b20b-e0d97bb2b4bf"
      },
      "outputs": [
        {
          "output_type": "stream",
          "name": "stdout",
          "text": [
            "How many rows?10\n",
            "How many columns10\n",
            "  1   2   3   4   5   6   7   8   9  10 \n",
            "  2   4   6   8  10  12  14  16  18  20 \n",
            "  3   6   9  12  15  18  21  24  27  30 \n",
            "  4   8  12  16  20  24  28  32  36  40 \n",
            "  5  10  15  20  25  30  35  40  45  50 \n",
            "  6  12  18  24  30  36  42  48  54  60 \n",
            "  7  14  21  28  35  42  49  56  63  70 \n",
            "  8  16  24  32  40  48  56  64  72  80 \n",
            "  9  18  27  36  45  54  63  72  81  90 \n",
            " 10  20  30  40  50  60  70  80  90 100 \n"
          ]
        }
      ],
      "source": [
        "while True:\n",
        "  try:\n",
        "    rows = int(input(\"How many rows?\"))\n",
        "    cols = int(input(\"How many columns\"))\n",
        "  except ValueError:\n",
        "    print(\"Please enter an integer in range 1-10\")\n",
        "    continue\n",
        "  if rows < 1 or rows > 11:\n",
        "    print(\"Please give a integer in range 1-10\")\n",
        "    continue\n",
        "  if cols < 1 or rows > 11:\n",
        "    print(\"Please give a integer in range 1-10\")\n",
        "    continue\n",
        "  # Using nested loop to print the multiplication table\n",
        "  for row in range(1,rows +1):\n",
        "    for col in range(1,cols +1):\n",
        "        # Here I am setting the cell width\n",
        "        cell_width = len(str(rows * cols))\n",
        "        print(f\"{row*col:>{cell_width}} \", end=\"\")\n",
        "    print()\n",
        "  break\n",
        "\n",
        "\n"
      ]
    },
    {
      "cell_type": "markdown",
      "id": "416bab28",
      "metadata": {
        "id": "416bab28"
      },
      "source": [
        "---\n",
        "## Task 4 — Vowel counter across words (≈15 min)\n",
        "\n",
        "Use a **sentinel** loop to read words until the user types `done`.  \n",
        "For each word, use a **nested loop** (loop over characters) to count **vowels** `a e i o u` (case-insensitive).\n",
        "\n",
        "**Output**\n",
        "- After each word, print `\"{word}\" has {k} vowel(s)`.\n",
        "- At the end, print the **total number of vowels** across all words.\n",
        "\n",
        "> Hint: A string is looped over the way a list is.  Use `for ch in word:` and compare `ch.lower()` against a set like `{'a','e','i','o','u'}`."
      ]
    },
    {
      "cell_type": "code",
      "execution_count": 46,
      "id": "c7a96d30",
      "metadata": {
        "id": "c7a96d30",
        "colab": {
          "base_uri": "https://localhost:8080/"
        },
        "outputId": "edb26d57-c1e6-4cec-e7fa-9905749a76a9"
      },
      "outputs": [
        {
          "output_type": "stream",
          "name": "stdout",
          "text": [
            "Please enter a word or done to exit dee\n",
            "dee has 2 vowels\n",
            "Please enter a word or done to exit ree\n",
            "ree has 2 vowels\n",
            "Please enter a word or done to exit done\n",
            "Total number of vowels: 4\n"
          ]
        }
      ],
      "source": [
        "vowels = {'a','e','i','o','u'}\n",
        "total_vowel = 0\n",
        "while True:\n",
        "  word = input(\"Please enter a word or done to exit \")\n",
        "  if word == \"done\":\n",
        "    break\n",
        "  vowel_count = 0\n",
        "  # Using a for loop to check if a word contains a vowel\n",
        "  for ch in word:\n",
        "    if ch.lower() in vowels:\n",
        "      vowel_count +=1\n",
        "  total_vowel += vowel_count\n",
        "\n",
        "  print(f\"{word} has {vowel_count} vowels\")\n",
        "print(f\"Total number of vowels: {total_vowel}\")\n",
        "\n",
        "\n",
        "\n",
        "\n",
        "\n",
        "\n"
      ]
    },
    {
      "cell_type": "markdown",
      "id": "98dd5563",
      "metadata": {
        "id": "98dd5563"
      },
      "source": [
        "---\n",
        "## Task 5 — Mini-gradebook (≈20 min)\n",
        "\n",
        "Build a tiny gradebook using **both** a sentinel loop and a nested loop.\n",
        "\n",
        "**Requirements**\n",
        "1. Repeatedly ask for a **student name** until the user types `done` (sentinel).  \n",
        "   - Ignore blank names.\n",
        "2. For each student, read exactly **3 scores** (0..100, integers).  \n",
        "   - Use input validation with try/except; reprompt on bad input.\n",
        "3. Store each student's average in a dictionary `grades[name] = avg`.  **OR** use two parallel lists instead.\n",
        "4. THIS REQUIREMENT IS DELETED +3 points if you have coded this : After input ends, print a simple report sorted by name, e.g.:\n",
        "   ```\n",
        "   Alice : 88.00\n",
        "   Bob   : 92.33\n",
        "   ```\n",
        "\n",
        "Note: because dictionaries were not yet discussed, you are welcome to use **two different lists** instead.  \n",
        "One list stores the names and the other stores the averages.  For example:\n",
        "`list_1[0] == 'Alice'`, `list_1[1] == 'Bob'` and `list_2[0] == 88.00`, `list_2[1] == 92.33`.\n",
        "To store data:\n",
        "`list_1.append('Alice')` and `list_2.append(88.00)`.\n",
        "\n",
        "**Stretch (optional)**  \n",
        "- Also print the **class average**."
      ]
    },
    {
      "cell_type": "code",
      "execution_count": 79,
      "id": "b4c87c4c",
      "metadata": {
        "id": "b4c87c4c",
        "colab": {
          "base_uri": "https://localhost:8080/"
        },
        "outputId": "d6c1531a-4b01-484d-d5a7-06afcf894df0"
      },
      "outputs": [
        {
          "name": "stdout",
          "output_type": "stream",
          "text": [
            "Please enter student name or done to exit Simmy\n",
            "Please enter student score 67\n",
            "Please enter student score 56\n",
            "Please enter student score 45\n",
            "here: [56.0]\n",
            "Please enter student name or done to exit done\n"
          ]
        }
      ],
      "source": [
        "list_1 = []\n",
        "list_2 = []\n",
        "while True:\n",
        "  name = input(\"Please enter student name or done to exit \").lower().strip()\n",
        "  if name == \"done\":\n",
        "    break\n",
        "  elif name == \"\":\n",
        "    continue\n",
        "  else:\n",
        "    list_1.append(name)\n",
        "  number_of_scores = 0\n",
        "  total_of_scores = 0\n",
        "  while number_of_scores < 3:\n",
        "      try:\n",
        "        score = int(input(\"Please enter student score \"))\n",
        "        if score < 0 or score > 101:\n",
        "          print(\"Please enter an integer in range 0 - 100\")\n",
        "          continue\n",
        "      except ValueError:\n",
        "        print(\"Please enter an integer in range 0 - 100\")\n",
        "        continue\n",
        "      else:\n",
        "        number_of_scores += 1\n",
        "        total_of_scores += score\n",
        "  avg = total_of_scores/number_of_scores\n",
        "  list_2.append(avg)\n",
        "  print(f\"Average: {list_2}\")\n",
        "\n",
        "\n",
        "\n",
        "\n"
      ]
    },
    {
      "cell_type": "markdown",
      "id": "0d1a8cf7",
      "metadata": {
        "id": "0d1a8cf7"
      },
      "source": [
        "---\n",
        "### ✅ Submission checklist\n",
        "\n",
        "- [ ] Notebook runs top-to-bottom without errors\n",
        "- [ ] Brief comments added where logic might be unclear\n",
        "- [ ] Push this notebook to GitHub and submit link to Canvas"
      ]
    }
  ],
  "metadata": {
    "colab": {
      "provenance": [],
      "include_colab_link": true
    },
    "language_info": {
      "name": "python"
    },
    "kernelspec": {
      "name": "python3",
      "display_name": "Python 3"
    }
  },
  "nbformat": 4,
  "nbformat_minor": 5
}